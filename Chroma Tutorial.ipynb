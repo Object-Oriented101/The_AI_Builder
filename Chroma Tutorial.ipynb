{
 "cells": [
  {
   "cell_type": "code",
   "execution_count": 1,
   "id": "cbe122ca",
   "metadata": {},
   "outputs": [],
   "source": [
    "from langchain.document_loaders import UnstructuredPDFLoader, OnlinePDFLoader\n",
    "from langchain.text_splitter import RecursiveCharacterTextSplitter\n",
    "import nltk"
   ]
  },
  {
   "cell_type": "markdown",
   "id": "5c89ad77",
   "metadata": {},
   "source": [
    "<h1> Convert PDF to Document Type </h1>"
   ]
  },
  {
   "cell_type": "code",
   "execution_count": 88,
   "id": "a9c1c4da",
   "metadata": {},
   "outputs": [],
   "source": [
    "#PDF Parser\n",
    "loader = UnstructuredPDFLoader(\"7_Habits.pdf\")"
   ]
  },
  {
   "cell_type": "code",
   "execution_count": 89,
   "id": "68396a8d",
   "metadata": {},
   "outputs": [
    {
     "name": "stderr",
     "output_type": "stream",
     "text": [
      "detectron2 is not installed. Cannot use the hi_res partitioning strategy. Falling back to partitioning with the fast strategy.\n"
     ]
    }
   ],
   "source": [
    "data = loader.load()"
   ]
  },
  {
   "cell_type": "code",
   "execution_count": 90,
   "id": "5494de5b",
   "metadata": {},
   "outputs": [
    {
     "name": "stdout",
     "output_type": "stream",
     "text": [
      "You have 1 document(s) in your data\n",
      "There are 762522 characters in your document\n"
     ]
    }
   ],
   "source": [
    "print (f'You have {len(data)} document(s) in your data')\n",
    "print (f'There are {len(data[0].page_content)} characters in your document')"
   ]
  },
  {
   "cell_type": "markdown",
   "id": "57c3b0e9",
   "metadata": {},
   "source": [
    "<h1>Break up the data into smaller parts</h1>\n",
    "Model can only take a certain amount of input. Breaking up the documents and finding the relevant ones helps us get around this constraint"
   ]
  },
  {
   "cell_type": "code",
   "execution_count": 91,
   "id": "105eb577",
   "metadata": {},
   "outputs": [],
   "source": [
    "text_splitter = RecursiveCharacterTextSplitter(chunk_size=1000, chunk_overlap=0)\n",
    "texts = text_splitter.split_documents(data)"
   ]
  },
  {
   "cell_type": "code",
   "execution_count": 92,
   "id": "c70a6061",
   "metadata": {},
   "outputs": [
    {
     "name": "stdout",
     "output_type": "stream",
     "text": [
      "Now you have 963 documents\n"
     ]
    }
   ],
   "source": [
    "print (f'Now you have {len(texts)} documents')"
   ]
  },
  {
   "cell_type": "markdown",
   "id": "fb7562ca",
   "metadata": {},
   "source": [
    "<h1> Create embeddings </h1>\n",
    "Embeddings will convert Doc Type to something the model can understand"
   ]
  },
  {
   "cell_type": "code",
   "execution_count": 93,
   "id": "3025ac6d",
   "metadata": {},
   "outputs": [
    {
     "name": "stderr",
     "output_type": "stream",
     "text": [
      "Using embedded DuckDB without persistence: data will be transient\n",
      "No embedding_function provided, using default embedding function: SentenceTransformerEmbeddingFunction\n"
     ]
    }
   ],
   "source": [
    "import chromadb\n",
    "\n",
    "client = chromadb.Client()\n",
    "\n",
    "collection = client.create_collection(\"book\")"
   ]
  },
  {
   "cell_type": "code",
   "execution_count": 94,
   "id": "c1e60f8e",
   "metadata": {},
   "outputs": [],
   "source": [
    "collection.add(\n",
    "    documents=[i.page_content for i in texts],\n",
    "    ids = [\"id\"+str(i) for i in range(len(texts))]\n",
    ")"
   ]
  },
  {
   "cell_type": "markdown",
   "id": "3ef4a82a",
   "metadata": {},
   "source": [
    "<h1>Use Langchain to connect embeddings to GPT </h1> "
   ]
  },
  {
   "cell_type": "code",
   "execution_count": 95,
   "id": "d19a41b2",
   "metadata": {},
   "outputs": [],
   "source": [
    "from langchain.llms import OpenAI\n",
    "import os\n",
    "from langchain.chains.question_answering import load_qa_chain"
   ]
  },
  {
   "cell_type": "code",
   "execution_count": 96,
   "id": "a4423a43",
   "metadata": {},
   "outputs": [],
   "source": [
    "#Setup the model\n",
    "llm = OpenAI(temperature=0, openai_api_key=os.environ.get('OPENAI_API_KEY')) #text-davinci-003\n",
    "chain = load_qa_chain(llm, chain_type=\"stuff\")"
   ]
  },
  {
   "cell_type": "code",
   "execution_count": 100,
   "id": "000c1785",
   "metadata": {},
   "outputs": [
    {
     "data": {
      "text/plain": [
       "{'ids': [['id460', 'id311']],\n",
       " 'embeddings': None,\n",
       " 'documents': [['The first generation of time management does not even recognize the concept of priority. It gives  us  notes  and  “to  do”  lists  that  we  can  cross  off,  and  we  feel  a  temporary  sense  of accomplishment every time we check something off, but no priority is attached to items on the list.  In  addition,  there  is  no  correlation  between  what’s  on  the  list  and  our  ultimate  values  and purposes in life. We simply respond to whatever penetrates our awareness and apparently needs to be done.\\n\\nMany people manage from this first-generation paradigm. It’s the course of least resistance. There’s  no  pain  or  strain;  it’s  fun  to  “go  with  the  flow.”  Externally  imposed  disciplines  and schedules give people the feeling that they aren’t responsible for results.',\n",
       "   'To  the  extent  to  which  we  understand  the  principle  of  two  creations  and  accept  the responsibility for both, we act within and enlarge the borders of our Circle of Influence. To the extent to which we do not operate in harmony with this principle and do not take charge of the first creation, we diminish it.\\n\\nBY DESIGN OR DEFAULT\\n\\nIt’s  a  principle  that  all  things  are  created  twice,  but  not  all  first  creations  are  by  conscious design. In our personal lives, if we do not develop our own self-awareness and do not become responsible for first creations, we empower other people and circumstances outside our Circle of\\n\\nInfluence to shape much of our lives by default. We reactively live the scripts handed to us by family,  associates,  other  people’s  agendas,  the  pressures  of  circumstance—scripts  from  our earlier years, from our training, our conditioning.']],\n",
       " 'metadatas': [[None, None]],\n",
       " 'distances': [[1.1144596338272095, 1.1200430393218994]]}"
      ]
     },
     "execution_count": 100,
     "metadata": {},
     "output_type": "execute_result"
    }
   ],
   "source": [
    "query = \"Why should I put things first things first?\"\n",
    "results = collection.query(\n",
    "    query_texts=[query],\n",
    "    n_results=2\n",
    ")\n",
    "results"
   ]
  },
  {
   "cell_type": "code",
   "execution_count": 101,
   "id": "e5cea8b0",
   "metadata": {},
   "outputs": [
    {
     "data": {
      "text/plain": [
       "[Document(page_content='The first generation of time management does not even recognize the concept of priority. It gives  us  notes  and  “to  do”  lists  that  we  can  cross  off,  and  we  feel  a  temporary  sense  of accomplishment every time we check something off, but no priority is attached to items on the list.  In  addition,  there  is  no  correlation  between  what’s  on  the  list  and  our  ultimate  values  and purposes in life. We simply respond to whatever penetrates our awareness and apparently needs to be done.\\n\\nMany people manage from this first-generation paradigm. It’s the course of least resistance. There’s  no  pain  or  strain;  it’s  fun  to  “go  with  the  flow.”  Externally  imposed  disciplines  and schedules give people the feeling that they aren’t responsible for results.', metadata={}),\n",
       " Document(page_content='To  the  extent  to  which  we  understand  the  principle  of  two  creations  and  accept  the responsibility for both, we act within and enlarge the borders of our Circle of Influence. To the extent to which we do not operate in harmony with this principle and do not take charge of the first creation, we diminish it.\\n\\nBY DESIGN OR DEFAULT\\n\\nIt’s  a  principle  that  all  things  are  created  twice,  but  not  all  first  creations  are  by  conscious design. In our personal lives, if we do not develop our own self-awareness and do not become responsible for first creations, we empower other people and circumstances outside our Circle of\\n\\nInfluence to shape much of our lives by default. We reactively live the scripts handed to us by family,  associates,  other  people’s  agendas,  the  pressures  of  circumstance—scripts  from  our earlier years, from our training, our conditioning.', metadata={})]"
      ]
     },
     "execution_count": 101,
     "metadata": {},
     "output_type": "execute_result"
    }
   ],
   "source": [
    "from langchain.docstore.document import Document\n",
    "documents = []\n",
    "for i in results['documents']:\n",
    "    for j in i:\n",
    "        documents.append(Document(page_content = j))\n",
    "\n",
    "documents"
   ]
  },
  {
   "cell_type": "code",
   "execution_count": 102,
   "id": "1acf76b9",
   "metadata": {},
   "outputs": [
    {
     "data": {
      "text/plain": [
       "' Putting first things first helps you to take charge of your life and be responsible for the results. It allows you to create your life by design, rather than by default, and to act within and enlarge your Circle of Influence.'"
      ]
     },
     "execution_count": 102,
     "metadata": {},
     "output_type": "execute_result"
    }
   ],
   "source": [
    "chain.run(input_documents=documents, question=query)"
   ]
  },
  {
   "cell_type": "code",
   "execution_count": null,
   "id": "27d51e1f",
   "metadata": {},
   "outputs": [],
   "source": []
  }
 ],
 "metadata": {
  "kernelspec": {
   "display_name": "Python 3 (ipykernel)",
   "language": "python",
   "name": "python3"
  },
  "language_info": {
   "codemirror_mode": {
    "name": "ipython",
    "version": 3
   },
   "file_extension": ".py",
   "mimetype": "text/x-python",
   "name": "python",
   "nbconvert_exporter": "python",
   "pygments_lexer": "ipython3",
   "version": "3.11.0"
  }
 },
 "nbformat": 4,
 "nbformat_minor": 5
}
